{
 "cells": [
  {
   "cell_type": "code",
   "execution_count": 1,
   "metadata": {},
   "outputs": [],
   "source": [
    "from __future__ import print_function\n",
    "import pickle\n",
    "import os.path\n",
    "from googleapiclient.discovery import build\n",
    "from google_auth_oauthlib.flow import InstalledAppFlow\n",
    "from google.auth.transport.requests import Request"
   ]
  },
  {
   "cell_type": "code",
   "execution_count": 9,
   "metadata": {},
   "outputs": [],
   "source": [
    "# If modifying these scopes, delete the file token.pickle.\n",
    "SCOPES = ['https://www.googleapis.com/auth/spreadsheets.readonly']\n",
    "\n",
    "# The ID and range of a sample spreadsheet.\n",
    "SAMPLE_SPREADSHEET_ID = '1pAXXbVuO93iWQmR5Ba7CropInK-g4rvmtSpO9IvzDVI'\n",
    "SAMPLE_RANGE_NAME = 'Tasks!B2:E44'"
   ]
  },
  {
   "cell_type": "code",
   "execution_count": 3,
   "metadata": {},
   "outputs": [],
   "source": [
    "creds = None\n",
    "# The file token.pickle stores the user's access and refresh tokens, and is\n",
    "# created automatically when the authorization flow completes for the first\n",
    "# time.\n",
    "if os.path.exists('token.pickle'):\n",
    "    with open('token.pickle', 'rb') as token:\n",
    "        creds = pickle.load(token)"
   ]
  },
  {
   "cell_type": "code",
   "execution_count": 4,
   "metadata": {},
   "outputs": [
    {
     "data": {
      "text/plain": [
       "<google.oauth2.credentials.Credentials at 0x23b9ad31be0>"
      ]
     },
     "execution_count": 4,
     "metadata": {},
     "output_type": "execute_result"
    }
   ],
   "source": [
    "creds"
   ]
  },
  {
   "cell_type": "code",
   "execution_count": 5,
   "metadata": {},
   "outputs": [],
   "source": [
    "# If there are no (valid) credentials available, let the user log in.\n",
    "if not creds or not creds.valid:\n",
    "    if creds and creds.expired and creds.refresh_token:\n",
    "        creds.refresh(Request())\n",
    "    else:\n",
    "        flow = InstalledAppFlow.from_client_secrets_file('credentials.json', SCOPES)\n",
    "        creds = flow.run_local_server(port=0)\n",
    "        \n",
    "    # Save the credentials for the next run\n",
    "    with open('token.pickle', 'wb') as token:\n",
    "        pickle.dump(creds, token)"
   ]
  },
  {
   "cell_type": "code",
   "execution_count": 11,
   "metadata": {},
   "outputs": [],
   "source": [
    "service = build('sheets', 'v4', credentials=creds)\n",
    "\n",
    "# Call the Sheets API\n",
    "sheet = service.spreadsheets()\n",
    "result = sheet.values().get(spreadsheetId=SAMPLE_SPREADSHEET_ID,\n",
    "                            range=SAMPLE_RANGE_NAME).execute()\n",
    "values = result.get('values', [])"
   ]
  },
  {
   "cell_type": "code",
   "execution_count": null,
   "metadata": {},
   "outputs": [],
   "source": [
    "if not values:\n",
    "    print('No data found.')\n",
    "else:\n",
    "    print('Name, Major:')\n",
    "    for row in values:\n",
    "        print(row)\n",
    "        # Print columns A and E, which correspond to indices 0 and 4.\n",
    "#         print('%s, %s' % (row[0], row[4]))"
   ]
  },
  {
   "cell_type": "code",
   "execution_count": 12,
   "metadata": {},
   "outputs": [
    {
     "data": {
      "text/plain": [
       "[['shehann@codegen.net',\n",
       "  'Implement free-text conditions navigation path',\n",
       "  'TC-10001',\n",
       "  '2'],\n",
       " ['shehann@codegen.net',\n",
       "  'Implement free-text conditions component with categories [check data binding]',\n",
       "  'TC-10002',\n",
       "  '4'],\n",
       " ['shehann@codegen.net', 'Dev testing & issue fixing', 'TC-10003', '2'],\n",
       " ['jayasanka@codegen.net', 'Test case writing', 'TC-10004'],\n",
       " ['jayasanka@codegen.net', 'Test execution', 'TC-10005'],\n",
       " ['virajk@codegen.net',\n",
       "  'Implement attributes navigation path',\n",
       "  'TC-10006',\n",
       "  '2'],\n",
       " ['virajk@codegen.net', 'Define correct attribute level', 'TC-10007', '2'],\n",
       " ['virajk@codegen.net', 'Check data-binding', 'TC-10008', '4'],\n",
       " ['virajk@codegen.net', 'Dev testing & issue fixing', 'TC-10009', '2'],\n",
       " ['jayasanka@codegen.net', 'Test case writing', 'TC-10010'],\n",
       " ['jayasanka@codegen.net', 'Test execution', 'TC-10011'],\n",
       " ['shehann@codegen.net', 'Implement product type table', 'TC-10012', '4'],\n",
       " ['shehann@codegen.net', 'Data binding', 'TC-10013', '6'],\n",
       " ['shehann@codegen.net', 'Implement validations', 'TC-10014', '4'],\n",
       " ['shehann@codegen.net', 'Dev testing & issue fixing', 'TC-10015', '2'],\n",
       " ['jayasanka@codegen.net', 'Test case writing', 'TC-10016'],\n",
       " ['jayasanka@codegen.net', 'Test execution', 'TC-10017'],\n",
       " ['shehann@codegen.net', 'Implement departure table view', 'TC-10018', '8'],\n",
       " ['shehann@codegen.net', 'Data binding', 'TC-10019', '6'],\n",
       " ['shehann@codegen.net', 'Implement form validations', 'TC-10020', '4'],\n",
       " ['shehann@codegen.net', 'Dev testing & issue fixing', 'TC-10021', '2'],\n",
       " ['jayasanka@codegen.net', 'Test case writing', 'TC-10022'],\n",
       " ['jayasanka@codegen.net', 'Test execution', 'TC-10023'],\n",
       " ['virajk@codegen.net', 'Implement pax-variation table', 'TC-10024', '6'],\n",
       " ['virajk@codegen.net', 'Data binding', 'TC-10025', '4'],\n",
       " ['virajk@codegen.net', 'Implement form validations', 'TC-10026', '6'],\n",
       " ['virajk@codegen.net', 'Dev testing & issue fixing', 'TC-10027', '4'],\n",
       " ['jayasanka@codegen.net', 'Test case writing', 'TC-10028'],\n",
       " ['jayasanka@codegen.net', 'Test execution', 'TC-10029'],\n",
       " ['virajk@codegen.net', 'Implement duration-discount table', 'TC-10030', '6'],\n",
       " ['virajk@codegen.net', 'Data binding', 'TC-10031', '4'],\n",
       " ['virajk@codegen.net', 'Implement form validations', 'TC-10032', '6'],\n",
       " ['virajk@codegen.net',\n",
       "  'Implement duration-discount filtering',\n",
       "  'TC-10033',\n",
       "  '2'],\n",
       " ['virajk@codegen.net', 'Dev testing & issue fixing', 'TC-10034', '2'],\n",
       " ['jayasanka@codegen.net', 'Test case writing', 'TC-10035'],\n",
       " ['jayasanka@codegen.net', 'Test execution', 'TC-10036'],\n",
       " ['ranishka@codegen.net', 'Conditions - > Departure Time', 'TC-10037', '12'],\n",
       " ['ranishka@codegen.net',\n",
       "  'Connditions - > Age Limits ( Missing Scenarios )',\n",
       "  'TC-10038',\n",
       "  '4'],\n",
       " ['ranishka@codegen.net',\n",
       "  'Connditions - > Upgradable / Downgradable',\n",
       "  'TC-10039',\n",
       "  '14'],\n",
       " ['ranishka@codegen.net', 'Category -> Main Panel', 'TC-10040', '14'],\n",
       " ['ranishka@codegen.net', 'Report Investigating', 'TC-10041', '4'],\n",
       " ['ranishka@codegen.net', 'Video Recording', 'TC-10042', '4'],\n",
       " ['ranishka@codegen.net', 'Automation Support', 'TC-10043', '3']]"
      ]
     },
     "execution_count": 12,
     "metadata": {},
     "output_type": "execute_result"
    }
   ],
   "source": [
    "values"
   ]
  },
  {
   "cell_type": "code",
   "execution_count": null,
   "metadata": {},
   "outputs": [],
   "source": []
  },
  {
   "cell_type": "code",
   "execution_count": null,
   "metadata": {},
   "outputs": [],
   "source": []
  },
  {
   "cell_type": "code",
   "execution_count": null,
   "metadata": {},
   "outputs": [],
   "source": []
  },
  {
   "cell_type": "code",
   "execution_count": null,
   "metadata": {},
   "outputs": [],
   "source": []
  }
 ],
 "metadata": {
  "kernelspec": {
   "display_name": "Python 3",
   "language": "python",
   "name": "python3"
  },
  "language_info": {
   "codemirror_mode": {
    "name": "ipython",
    "version": 3
   },
   "file_extension": ".py",
   "mimetype": "text/x-python",
   "name": "python",
   "nbconvert_exporter": "python",
   "pygments_lexer": "ipython3",
   "version": "3.7.3"
  }
 },
 "nbformat": 4,
 "nbformat_minor": 2
}
